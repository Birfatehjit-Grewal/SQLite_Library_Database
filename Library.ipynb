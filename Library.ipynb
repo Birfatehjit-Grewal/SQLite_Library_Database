{
 "cells": [
  {
   "cell_type": "markdown",
   "id": "b83ae09d",
   "metadata": {},
   "source": [
    "# Create Database"
   ]
  },
  {
   "cell_type": "code",
   "execution_count": 32,
   "id": "ccc04465",
   "metadata": {},
   "outputs": [
    {
     "name": "stdout",
     "output_type": "stream",
     "text": [
      "The sql extension is already loaded. To reload it, use:\n",
      "  %reload_ext sql\n"
     ]
    }
   ],
   "source": [
    "%load_ext sql"
   ]
  },
  {
   "cell_type": "code",
   "execution_count": 31,
   "id": "9878a724",
   "metadata": {},
   "outputs": [
    {
     "data": {
      "text/plain": [
       "'Connected: @Library.db'"
      ]
     },
     "execution_count": 31,
     "metadata": {},
     "output_type": "execute_result"
    }
   ],
   "source": [
    "%sql sqlite:///Library.db"
   ]
  },
  {
   "cell_type": "markdown",
   "id": "61bcce56",
   "metadata": {},
   "source": [
    "# Tables"
   ]
  },
  {
   "cell_type": "code",
   "execution_count": 3,
   "id": "5aa7161e",
   "metadata": {},
   "outputs": [
    {
     "name": "stdout",
     "output_type": "stream",
     "text": [
      " * sqlite:///Library.db\n",
      "Done.\n",
      "Done.\n",
      "Done.\n",
      "Done.\n",
      "Done.\n",
      "Done.\n",
      "Done.\n",
      "Done.\n",
      "Done.\n",
      "Done.\n",
      "Done.\n",
      "Done.\n",
      "Done.\n",
      "Done.\n",
      "Done.\n"
     ]
    },
    {
     "data": {
      "text/plain": [
       "[]"
      ]
     },
     "execution_count": 3,
     "metadata": {},
     "output_type": "execute_result"
    }
   ],
   "source": [
    "%%sql\n",
    "drop table Item;\n",
    "drop table Book;\n",
    "drop table OnlineBooks;\n",
    "drop table Magazine;\n",
    "drop table Journal;\n",
    "drop table CD;\n",
    "drop table Record;\n",
    "drop table AudioBook;\n",
    "drop table User;\n",
    "drop table Room;\n",
    "drop table Event;\n",
    "drop table Staff;\n",
    "drop table Borrowing;\n",
    "drop table Location;\n",
    "drop table Registered;"
   ]
  },
  {
   "cell_type": "code",
   "execution_count": 4,
   "id": "1f607f0b",
   "metadata": {},
   "outputs": [
    {
     "name": "stdout",
     "output_type": "stream",
     "text": [
      " * sqlite:///Library.db\n",
      "Done.\n"
     ]
    },
    {
     "data": {
      "text/plain": [
       "[]"
      ]
     },
     "execution_count": 4,
     "metadata": {},
     "output_type": "execute_result"
    }
   ],
   "source": [
    "%%sql\n",
    "CREATE TABLE Item (\n",
    "    ItemID INTEGER,\n",
    "    Type CHAR(15) NOT NULL,\n",
    "    Availablity BOOLEAN DEFAULT FALSE,\n",
    "    OnOrder BOOLEAN DEFAULT FALSE,\n",
    "    Title CHAR(100) NOT NULL,\n",
    "    \n",
    "    CHECK (type IN \n",
    "        ('BOOK', 'ONLINE BOOK', 'MAGAZINE', 'CD', 'RECORD', 'JOURNAL', 'AUDIOBOOK')),\n",
    "    CHECK (ItemID > 0),\n",
    "    CHECK ((OnOrder = TRUE AND Availablity = FALSE) OR (OnOrder = FALSE)),\n",
    "    \n",
    "    PRIMARY KEY (ItemID)\n",
    ");"
   ]
  },
  {
   "cell_type": "code",
   "execution_count": 5,
   "id": "05b1e487",
   "metadata": {},
   "outputs": [
    {
     "name": "stdout",
     "output_type": "stream",
     "text": [
      " * sqlite:///Library.db\n",
      "Done.\n",
      "Done.\n",
      "Done.\n"
     ]
    },
    {
     "data": {
      "text/plain": [
       "[]"
      ]
     },
     "execution_count": 5,
     "metadata": {},
     "output_type": "execute_result"
    }
   ],
   "source": [
    "%%sql\n",
    "CREATE TABLE Book (\n",
    "    ItemID INTEGER REFERENCES Item(ItemID),\n",
    "    Title CHAR(40) NOT NULL,\n",
    "    Author CHAR(20) DEFAULT NULL,\n",
    "    PubDate DATE NOT NULL,\n",
    "    Length INTEGER NOT NULL,\n",
    "    ISBN INTEGER,\n",
    "    Publisher CHAR(50) NOT NULL,\n",
    "    ShelfID INTEGER DEFAULT NULL,\n",
    "    Genre CHAR(10),\n",
    "    \n",
    "    CHECK (Length > 0),\n",
    "    CHECK (ISBN > 0),\n",
    "    \n",
    "    PRIMARY KEY (ItemID)\n",
    ");\n",
    "\n",
    "CREATE TRIGGER AddBookToItems\n",
    "BEFORE INSERT ON Book\n",
    "BEGIN\n",
    "INSERT INTO Item VALUES(New.ItemID, 'BOOK', TRUE, FALSE, New.Title);\n",
    "END;\n",
    "\n",
    "CREATE TRIGGER RemoveBookItems\n",
    "After DELETE ON Book\n",
    "FOR EACH ROW\n",
    "BEGIN\n",
    "DELETE FROM Item WHERE ItemID = Old.ItemID;\n",
    "END;"
   ]
  },
  {
   "cell_type": "code",
   "execution_count": 6,
   "id": "235421aa",
   "metadata": {},
   "outputs": [
    {
     "name": "stdout",
     "output_type": "stream",
     "text": [
      " * sqlite:///Library.db\n",
      "Done.\n",
      "Done.\n",
      "Done.\n"
     ]
    },
    {
     "data": {
      "text/plain": [
       "[]"
      ]
     },
     "execution_count": 6,
     "metadata": {},
     "output_type": "execute_result"
    }
   ],
   "source": [
    "%%sql\n",
    "CREATE TABLE OnlineBooks (\n",
    "    ItemID INTEGER REFERENCES Item(ItemID),\n",
    "    Title CHAR(40) NOT NULL,\n",
    "    Author CHAR(20) DEFAULT NULL,\n",
    "    Link CHAR(100) NOT NULL,\n",
    "    PubDate DATE NOT NULL,\n",
    "    Publisher CHAR(50) NOT NULL,\n",
    "    ISBN INTEGER NOT NULL,\n",
    "    Format CHAR(15) DEFAULT 'PDF',\n",
    "    Length Integer NOT NULL,\n",
    "    Genre CHAR(10),\n",
    "    \n",
    "    CHECK (Link LIKE 'https://%'),\n",
    "    CHECK (ISBN > 0),\n",
    "    CHECK (Length > 0),\n",
    "    \n",
    "    PRIMARY KEY (ItemID)\n",
    ");\n",
    "\n",
    "CREATE TRIGGER AddOnlineBookToItems\n",
    "BEFORE INSERT ON OnlineBooks\n",
    "BEGIN\n",
    "INSERT INTO Item VALUES(New.ItemID, 'ONLINE BOOK', TRUE, FALSE, New.Title);\n",
    "END;\n",
    "\n",
    "CREATE TRIGGER RemoveOnlineBooksItems\n",
    "After DELETE ON OnlineBooks\n",
    "FOR EACH ROW\n",
    "BEGIN\n",
    "DELETE FROM Item WHERE ItemID = Old.ItemID;\n",
    "END;"
   ]
  },
  {
   "cell_type": "code",
   "execution_count": 7,
   "id": "0aaa2583",
   "metadata": {},
   "outputs": [
    {
     "name": "stdout",
     "output_type": "stream",
     "text": [
      " * sqlite:///Library.db\n",
      "Done.\n",
      "Done.\n",
      "Done.\n"
     ]
    },
    {
     "data": {
      "text/plain": [
       "[]"
      ]
     },
     "execution_count": 7,
     "metadata": {},
     "output_type": "execute_result"
    }
   ],
   "source": [
    "%%sql\n",
    "CREATE TABLE Magazine (\n",
    "    ItemID INTEGER REFERENCES Item(ItemID),\n",
    "    Title CHAR(40) NOT NULL,\n",
    "    Publisher CHAR(50) NOT NULL,\n",
    "    PubDate DATE NOT NULL,\n",
    "    IssueNum INTEGER DEFAULT 1,\n",
    "    ISBN INTEGER NOT NULL,\n",
    "    Length Integer NOT NULL,\n",
    "    ShelfID INTEGER DEFAULT NULL,\n",
    "    \n",
    "    CHECK (IssueNum > 0),\n",
    "    CHECK (ISBN > 0),\n",
    "    CHECK (Length > 0),\n",
    "    \n",
    "    PRIMARY KEY (ItemID)\n",
    ");\n",
    "\n",
    "CREATE TRIGGER AddMagazineToItems\n",
    "BEFORE INSERT ON Magazine\n",
    "BEGIN\n",
    "INSERT INTO Item VALUES(New.ItemID, 'MAGAZINE', TRUE, FALSE, New.Title);\n",
    "END;\n",
    "\n",
    "CREATE TRIGGER RemoveMagazineItems\n",
    "After DELETE ON Magazine\n",
    "FOR EACH ROW\n",
    "BEGIN\n",
    "DELETE FROM Item WHERE ItemID = Old.ItemID;\n",
    "END;"
   ]
  },
  {
   "cell_type": "code",
   "execution_count": 8,
   "id": "019b9fb2",
   "metadata": {},
   "outputs": [
    {
     "name": "stdout",
     "output_type": "stream",
     "text": [
      " * sqlite:///Library.db\n",
      "Done.\n",
      "Done.\n",
      "Done.\n"
     ]
    },
    {
     "data": {
      "text/plain": [
       "[]"
      ]
     },
     "execution_count": 8,
     "metadata": {},
     "output_type": "execute_result"
    }
   ],
   "source": [
    "%%sql\n",
    "CREATE TABLE Journal (\n",
    "    ItemID INTEGER REFERENCES Item(ItemID),\n",
    "    Title CHAR(40) NOT NULL,\n",
    "    Volume INTEGER NOT NULL DEFAULT 1,\n",
    "    Issue INTEGER NOT NULL DEFAULT 1,\n",
    "    Publisher CHAR(50) NOT NULL,\n",
    "    PubDate DATE NOT NULL,\n",
    "    Field CHAR(20) DEFAULT NULL,\n",
    "    ShelfID INTEGER NOT NULL,\n",
    "    \n",
    "    CHECK (Volume > 0),\n",
    "    CHECK (Issue > 0),\n",
    "    \n",
    "    PRIMARY KEY (ItemID)\n",
    ");\n",
    "\n",
    "CREATE TRIGGER AddJournalToItems\n",
    "BEFORE INSERT ON Journal\n",
    "BEGIN\n",
    "INSERT INTO Item VALUES(New.ItemID, 'JOURNAL', TRUE, FALSE, New.Title);\n",
    "END;\n",
    "\n",
    "CREATE TRIGGER RemoveJournalItems\n",
    "After DELETE ON Journal\n",
    "FOR EACH ROW\n",
    "BEGIN\n",
    "DELETE FROM Item WHERE ItemID = Old.ItemID;\n",
    "END;\n"
   ]
  },
  {
   "cell_type": "code",
   "execution_count": 9,
   "id": "dc549dff",
   "metadata": {},
   "outputs": [
    {
     "name": "stdout",
     "output_type": "stream",
     "text": [
      " * sqlite:///Library.db\n",
      "Done.\n",
      "Done.\n",
      "Done.\n"
     ]
    },
    {
     "data": {
      "text/plain": [
       "[]"
      ]
     },
     "execution_count": 9,
     "metadata": {},
     "output_type": "execute_result"
    }
   ],
   "source": [
    "%%sql\n",
    "CREATE TABLE CD (\n",
    "    ItemID INTEGER REFERENCES Item(ItemID),\n",
    "    Title CHAR(40) NOT NULL,\n",
    "    Artist CHAR(20) NOT NULL,\n",
    "    RecordLabel CHAR(20) NOT NULL,\n",
    "    ReleaseDate DATE NOT NULL,\n",
    "    ShelfID INTEGER NOT NULL,\n",
    "    \n",
    "    PRIMARY KEY (ItemID)\n",
    ");\n",
    "\n",
    "CREATE TRIGGER AddCDToItems\n",
    "BEFORE INSERT ON CD\n",
    "BEGIN\n",
    "INSERT INTO Item VALUES(New.ItemID, 'CD', TRUE, FALSE, New.Title);\n",
    "END;\n",
    "\n",
    "CREATE TRIGGER RemoveCDItems\n",
    "After DELETE ON CD\n",
    "FOR EACH ROW\n",
    "BEGIN\n",
    "DELETE FROM Item WHERE ItemID = Old.ItemID;\n",
    "END;"
   ]
  },
  {
   "cell_type": "code",
   "execution_count": 10,
   "id": "0d704599",
   "metadata": {},
   "outputs": [
    {
     "name": "stdout",
     "output_type": "stream",
     "text": [
      " * sqlite:///Library.db\n",
      "Done.\n",
      "Done.\n",
      "Done.\n"
     ]
    },
    {
     "data": {
      "text/plain": [
       "[]"
      ]
     },
     "execution_count": 10,
     "metadata": {},
     "output_type": "execute_result"
    }
   ],
   "source": [
    "%%sql\n",
    "CREATE TABLE Record (\n",
    "    ItemID INTEGER REFERENCES Item(ItemID),\n",
    "    Title CHAR(40),\n",
    "    Location CHAR(20) DEFAULT 'LOCAL',\n",
    "    Date Date DEFAULT NULL,\n",
    "    Category CHAR(30) DEFAULT 'GENERAL',\n",
    "    ShelfID INTEGER DEFAULT NULL,\n",
    "    PRIMARY KEY (ItemID)\n",
    ");\n",
    "\n",
    "CREATE TRIGGER AddRecordToItems\n",
    "BEFORE INSERT ON Record\n",
    "BEGIN\n",
    "INSERT INTO Item VALUES(New.ItemID, 'RECORD', TRUE, FALSE, New.Title);\n",
    "END;\n",
    "\n",
    "CREATE TRIGGER RemoveRecordItems\n",
    "After DELETE ON Record\n",
    "FOR EACH ROW\n",
    "BEGIN\n",
    "DELETE FROM Item WHERE ItemID = Old.ItemID;\n",
    "END;"
   ]
  },
  {
   "cell_type": "code",
   "execution_count": 11,
   "id": "27a7ecb4",
   "metadata": {},
   "outputs": [
    {
     "name": "stdout",
     "output_type": "stream",
     "text": [
      " * sqlite:///Library.db\n",
      "Done.\n",
      "Done.\n",
      "Done.\n"
     ]
    },
    {
     "data": {
      "text/plain": [
       "[]"
      ]
     },
     "execution_count": 11,
     "metadata": {},
     "output_type": "execute_result"
    }
   ],
   "source": [
    "%%sql\n",
    "CREATE TABLE AudioBook (\n",
    "    ItemID INTEGER REFERENCES Item(ItemID),\n",
    "    Title CHAR(40) NOT NULL,\n",
    "    Author CHAR(20) DEFAULT NULL,\n",
    "    PubDate DATE NOT NULL,\n",
    "    Publisher CHAR(50) NOT NULL,\n",
    "    ISBN INTEGER NOT NULL,\n",
    "    Length Integer NOT NULL,\n",
    "    \n",
    "    CHECK (Length > 0),\n",
    "    CHECK (ISBN > 0),\n",
    "    \n",
    "    PRIMARY KEY (ItemID)\n",
    ");\n",
    "\n",
    "CREATE TRIGGER AddAudioBookToItems\n",
    "BEFORE INSERT ON AudioBook\n",
    "BEGIN\n",
    "INSERT INTO Item VALUES(New.ItemID, 'AUDIOBOOK', TRUE, FALSE, New.Title);\n",
    "END;\n",
    "\n",
    "CREATE TRIGGER RemoveAudioBookItems\n",
    "After DELETE ON AudioBook\n",
    "FOR EACH ROW\n",
    "BEGIN\n",
    "DELETE FROM Item WHERE ItemID = Old.ItemID;\n",
    "END;"
   ]
  },
  {
   "cell_type": "code",
   "execution_count": 12,
   "id": "7609e23b",
   "metadata": {
    "scrolled": true
   },
   "outputs": [
    {
     "name": "stdout",
     "output_type": "stream",
     "text": [
      " * sqlite:///Library.db\n",
      "Done.\n"
     ]
    },
    {
     "data": {
      "text/plain": [
       "[]"
      ]
     },
     "execution_count": 12,
     "metadata": {},
     "output_type": "execute_result"
    }
   ],
   "source": [
    "%%sql\n",
    "CREATE TABLE User (\n",
    "    UserID INTEGER,\n",
    "    LastName CHAR(20) NOT NULL,\n",
    "    FirstName CHAR(20) NOT NULL,\n",
    "    Address CHAR(20),\n",
    "    Email Char(50),\n",
    "    PrefType CHAR(20),\n",
    "    \n",
    "    CHECK (PrefType IN \n",
    "           ('BOOK EVENT', 'BOOK CLUB', 'CLUB', 'ART SHOW', 'FILM SCREENING', 'READING', 'LECTURE', 'MEET AND GREET')),\n",
    "    \n",
    "    PRIMARY KEY (UserID)\n",
    ");"
   ]
  },
  {
   "cell_type": "code",
   "execution_count": 13,
   "id": "b809d0b2",
   "metadata": {},
   "outputs": [
    {
     "name": "stdout",
     "output_type": "stream",
     "text": [
      " * sqlite:///Library.db\n",
      "Done.\n"
     ]
    },
    {
     "data": {
      "text/plain": [
       "[]"
      ]
     },
     "execution_count": 13,
     "metadata": {},
     "output_type": "execute_result"
    }
   ],
   "source": [
    "%%sql\n",
    "CREATE TABLE Room (\n",
    "    RoomNumber INTEGER,\n",
    "    RoommName CHAR(20) DEFAULT NULL,\n",
    "    Capacity INTEGER, \n",
    "    Floor INTEGER,\n",
    "    \n",
    "    CHECK (Capacity > 0),\n",
    "    CHECK (Floor > -2 AND Floor < 3)\n",
    "    \n",
    "    PRIMARY KEY (RoomNumber)\n",
    ");"
   ]
  },
  {
   "cell_type": "code",
   "execution_count": 14,
   "id": "aee91095",
   "metadata": {},
   "outputs": [
    {
     "name": "stdout",
     "output_type": "stream",
     "text": [
      " * sqlite:///Library.db\n",
      "Done.\n"
     ]
    },
    {
     "data": {
      "text/plain": [
       "[]"
      ]
     },
     "execution_count": 14,
     "metadata": {},
     "output_type": "execute_result"
    }
   ],
   "source": [
    "%%sql\n",
    "CREATE TABLE Event (\n",
    "    EventName CHAR(50),\n",
    "    EventDate DATETIME,\n",
    "    Type CHAR(20) NOT NULL DEFAULT 'BOOK EVENT',\n",
    "    Capacity INTEGER NOT NULL,\n",
    "    Organizer INTEGER REFERENCES Staff(StaffID),\n",
    "    \n",
    "    CHECK (Capacity > 0),\n",
    "    CHECK (Type IN \n",
    "           ('BOOK EVENT', 'BOOK CLUB', 'CLUB', 'ART SHOW', 'FILM SCREENING', 'READING', 'LECTURE', 'MEET AND GREET')),\n",
    "    \n",
    "    PRIMARY KEY (EventDate, EventName)\n",
    ");"
   ]
  },
  {
   "cell_type": "code",
   "execution_count": 15,
   "id": "31c57290",
   "metadata": {},
   "outputs": [
    {
     "name": "stdout",
     "output_type": "stream",
     "text": [
      " * sqlite:///Library.db\n",
      "Done.\n"
     ]
    },
    {
     "data": {
      "text/plain": [
       "[]"
      ]
     },
     "execution_count": 15,
     "metadata": {},
     "output_type": "execute_result"
    }
   ],
   "source": [
    "%%sql\n",
    "CREATE TABLE Staff (\n",
    "    StaffID INTEGER,\n",
    "    LastName CHAR(20) NOT NULL,\n",
    "    FirstName CHAR(20) NOT NULL,\n",
    "    Address CHAR(20) NOT NULL,\n",
    "    Email Char(50) NOT NULL,\n",
    "    PhoneNumber INTEGER NOT NULL,\n",
    "    HireDate DATE DEFAULT '0000-00-00',\n",
    "    Position Char(50) NOT NULL DEFAULT 'LIBRARIAN',\n",
    "    Volunteer BOOLEAN NOT NULL DEFAULT FALSE,\n",
    "    UserID INTEGER REFERENCES User(UserID),\n",
    "    \n",
    "    CHECK (Position IN \n",
    "           ('LIBRARIAN', 'MANAGER', 'EVENT STAFF', 'CAFE', 'YOUTH WORKER', 'CUSTODIAL')),\n",
    "    \n",
    "    PRIMARY KEY (StaffID)\n",
    ");"
   ]
  },
  {
   "cell_type": "code",
   "execution_count": 16,
   "id": "88e49c1c",
   "metadata": {},
   "outputs": [
    {
     "name": "stdout",
     "output_type": "stream",
     "text": [
      " * sqlite:///Library.db\n",
      "Done.\n",
      "Done.\n",
      "Done.\n"
     ]
    },
    {
     "data": {
      "text/plain": [
       "[]"
      ]
     },
     "execution_count": 16,
     "metadata": {},
     "output_type": "execute_result"
    }
   ],
   "source": [
    "%%sql\n",
    "CREATE TABLE Borrowing (\n",
    "    UserID INTEGER REFERENCES User(UserID),\n",
    "    ItemID INTEGER REFERENCES Item(ItemID),\n",
    "    BorrowDate DATE NOT NULL,\n",
    "    DueDate Date NOT NULL,\n",
    "    Charge NUMERIC(2,2) NOT NULL DEFAULT 00.00,\n",
    "    ReturnDate DATE NOT NULL DEFAULT '0000-00-00',\n",
    "    \n",
    "    CHECK (BorrowDate < DueDate),\n",
    "    \n",
    "    PRIMARY KEY (ItemID,BorrowDate)\n",
    ");\n",
    "\n",
    "\n",
    "CREATE TRIGGER ItemAvailable\n",
    "AFTER UPDATE OF ReturnDate ON Borrowing\n",
    "FOR EACH ROW\n",
    "WHEN (Old.ReturnDate != New.ReturnDate)\n",
    "BEGIN\n",
    "UPDATE Item\n",
    "SET Availablity = TRUE\n",
    "WHERE Item.ItemID = New.ItemID;\n",
    "END;\n",
    "\n",
    "CREATE TRIGGER Itemborrowed\n",
    "AFTER Insert ON Borrowing\n",
    "BEGIN\n",
    "UPDATE Item\n",
    "SET Availablity = FALSE\n",
    "WHERE Item.ItemID = New.ItemID;\n",
    "END;\n"
   ]
  },
  {
   "cell_type": "markdown",
   "id": "a232ea06",
   "metadata": {},
   "source": [
    "# Relations"
   ]
  },
  {
   "cell_type": "code",
   "execution_count": 17,
   "id": "963ff622",
   "metadata": {},
   "outputs": [
    {
     "name": "stdout",
     "output_type": "stream",
     "text": [
      " * sqlite:///Library.db\n",
      "Done.\n"
     ]
    },
    {
     "data": {
      "text/plain": [
       "[]"
      ]
     },
     "execution_count": 17,
     "metadata": {},
     "output_type": "execute_result"
    }
   ],
   "source": [
    "%%sql\n",
    "CREATE TABLE Registered (\n",
    "    UserID INTEGER REFERENCES User(UserID),\n",
    "    EventDate DATETIME REFERENCES Event(EventDate),\n",
    "    EventName CHAR(50) REFERENCES Event(EventName),\n",
    "    PRIMARY KEY (UserID, EventDate, EventName)\n",
    ");"
   ]
  },
  {
   "cell_type": "code",
   "execution_count": 18,
   "id": "216972b7",
   "metadata": {},
   "outputs": [
    {
     "name": "stdout",
     "output_type": "stream",
     "text": [
      " * sqlite:///Library.db\n",
      "Done.\n"
     ]
    },
    {
     "data": {
      "text/plain": [
       "[]"
      ]
     },
     "execution_count": 18,
     "metadata": {},
     "output_type": "execute_result"
    }
   ],
   "source": [
    "%%sql\n",
    "CREATE TABLE Location (\n",
    "    EventName CHAR(50) REFERENCES Event(EventName),\n",
    "    EventDate DATETIME REFERENCES Event(EventDate),\n",
    "    RoomNumber INTEGER REFERENCES Room(RoomNumber),\n",
    "    PRIMARY KEY (EventDate, EventName, RoomNumber)\n",
    ");"
   ]
  },
  {
   "cell_type": "code",
   "execution_count": 19,
   "id": "8b4d5395",
   "metadata": {},
   "outputs": [
    {
     "name": "stdout",
     "output_type": "stream",
     "text": [
      " * sqlite:///Library.db\n",
      "10 rows affected.\n"
     ]
    },
    {
     "data": {
      "text/plain": [
       "[]"
      ]
     },
     "execution_count": 19,
     "metadata": {},
     "output_type": "execute_result"
    }
   ],
   "source": [
    "%%sql\n",
    "INSERT INTO Book VALUES(\n",
    "    1001,'Book 1','John Smith','2020-12-31',212,12345,'Print101',1,'Horror'),\n",
    "    (1002,'Book 2','Bob Smith','2000-09-03',124,12346,'Print200',3,'Horror'),\n",
    "    (1003,'Book 3','Larry Smith','2022-11-12',212,12346,'Print101',1,'Horror'),\n",
    "    (1004,'Book 4','C123','2012-12-11',212,12347,'Print101',1,'Horror'),\n",
    "    (1005,'Book 5','Rob Spring','2003-08-21',212,12348,'Print101',1,'Horror'),\n",
    "    (1006,'Book 6','Author 6','2005-06-01',212,12349,'Print101',1,'Horror'),\n",
    "    (1007,'Book 7','Author 7','2007-02-26',212,12350,'Print101',1,'Horror'),\n",
    "    (1008,'Book 8','Author 8','2021-03-11',212,12351,'Print101',1,'Horror'),\n",
    "    (1009,'Book 9','Author 9','2020-10-08',212,12352,'Print101',1,'Horror'),\n",
    "    (1010,'Book 10','Author 10','2001-11-06',212,12353,'Print101',1,'Horror');"
   ]
  },
  {
   "cell_type": "code",
   "execution_count": 20,
   "id": "6e65e9f5",
   "metadata": {},
   "outputs": [
    {
     "name": "stdout",
     "output_type": "stream",
     "text": [
      " * sqlite:///Library.db\n",
      "10 rows affected.\n"
     ]
    },
    {
     "data": {
      "text/plain": [
       "[]"
      ]
     },
     "execution_count": 20,
     "metadata": {},
     "output_type": "execute_result"
    }
   ],
   "source": [
    "%%sql\n",
    "INSERT INTO OnlineBooks VALUES(\n",
    "    1011,'Online Book 1','John Smith 1','https://Link','2020-12-31','Print101',12454,'PDF',111,'Horror'),\n",
    "    (1012,'Online Book 2','John Smith 2','https://Link','2020-12-31','Print101',12455,'PDF',101,'Horror'),\n",
    "    (1013,'Online Book 3','John Smith 3','https://Link','2020-12-31','Print101',12456,'PDF',111,'Horror'),\n",
    "    (1014,'Online Book 4','John Smith 4','https://Link','2020-12-31','Print101',12457,'PDF',111,'Horror'),\n",
    "    (1015,'Online Book 5','John Smith 5','https://Link','2020-12-31','Print101',12458,'PDF',111,'Horror'),\n",
    "    (1016,'Online Book 6','John Smith 6','https://Link','2020-12-31','Print101',12459,'PDF',111,'Horror'),\n",
    "    (1017,'Online Book 7','John Smith 7','https://Link','2020-12-31','Print101',12460,'PDF',111,'Horror'),\n",
    "    (1018,'Online Book 8','John Smith 8','https://Link','2020-12-31','Print101',12461,'PDF',111,'Horror'),\n",
    "    (1019,'Online Book 9','John Smith 9','https://Link','2020-12-31','Print101',12462,'PDF',11,'Horror'),\n",
    "    (1020,'Online Book 10','John Smith 10','https://Link','2020-12-31','Print101',12463,'PDF',1111,'Horror');"
   ]
  },
  {
   "cell_type": "code",
   "execution_count": 21,
   "id": "07b8d465",
   "metadata": {},
   "outputs": [
    {
     "name": "stdout",
     "output_type": "stream",
     "text": [
      " * sqlite:///Library.db\n",
      "10 rows affected.\n"
     ]
    },
    {
     "data": {
      "text/plain": [
       "[]"
      ]
     },
     "execution_count": 21,
     "metadata": {},
     "output_type": "execute_result"
    }
   ],
   "source": [
    "%%sql\n",
    "INSERT INTO Magazine VALUES(\n",
    "    1021,'Magazine 1','Print101','2020-12-31',1,12454,111,3),\n",
    "    (1022,'Magazine 2','Print101','2020-12-31',2,12455,101,3),\n",
    "    (1023,'Magazine 3','Print101','2020-12-31',1,12456,111,3),\n",
    "    (1024,'Magazine 4','Print101','2020-12-31',2,12457,111,4),\n",
    "    (1025,'Magazine 5','Print101','2020-12-31',1,12458,111,4),\n",
    "    (1026,'Magazine 6','Print101','2020-12-31',1,12459,111,4),\n",
    "    (1027,'Magazine 7','Print101','2020-12-31',3,12460,111,3),\n",
    "    (1028,'Magazine 8','Print101','2020-12-31',1,12461,111,3),\n",
    "    (1029,'Magazine 9','Print101','2020-12-31',2,12462,11,3),\n",
    "    (1030,'Magazine 10','Print101','2020-12-31',2,12463,1111,3);"
   ]
  },
  {
   "cell_type": "code",
   "execution_count": 22,
   "id": "d4ac490d",
   "metadata": {},
   "outputs": [
    {
     "name": "stdout",
     "output_type": "stream",
     "text": [
      " * sqlite:///Library.db\n",
      "10 rows affected.\n"
     ]
    },
    {
     "data": {
      "text/plain": [
       "[]"
      ]
     },
     "execution_count": 22,
     "metadata": {},
     "output_type": "execute_result"
    }
   ],
   "source": [
    "%%sql\n",
    "INSERT INTO Journal VALUES(\n",
    "    1031,'Journal 1',2,1,'Print101','2020-12-31','Field',7),\n",
    "    (1032,'Journal 2',2,1,'Print101','2020-12-31','Field',7),\n",
    "    (1033,'Journal 3',2,1,'Print101','2020-12-31','Field',8),\n",
    "    (1034,'Journal 4',2,1,'Print101','2020-12-31','Field',8),\n",
    "    (1035,'Journal 5',2,1,'Print101','2020-12-31','Field',8),\n",
    "    (1036,'Journal 6',2,1,'Print101','2020-12-31','Field',7),\n",
    "    (1037,'Journal 7',2,1,'Print101','2020-12-31','Field',7),\n",
    "    (1038,'Journal 8',2,1,'Print101','2020-12-31','Field',6),\n",
    "    (1039,'Journal 9',2,1,'Print101','2020-12-31','Field',6),\n",
    "    (1040,'Journal 10',2,1,'Print101','2020-12-31','Field',6);"
   ]
  },
  {
   "cell_type": "code",
   "execution_count": 23,
   "id": "ea1793a6",
   "metadata": {},
   "outputs": [
    {
     "name": "stdout",
     "output_type": "stream",
     "text": [
      " * sqlite:///Library.db\n",
      "10 rows affected.\n"
     ]
    },
    {
     "data": {
      "text/plain": [
       "[]"
      ]
     },
     "execution_count": 23,
     "metadata": {},
     "output_type": "execute_result"
    }
   ],
   "source": [
    "%%sql\n",
    "INSERT INTO CD VALUES(\n",
    "    1041,'CD 1','Artist 1','Record101','2020-12-31',7),\n",
    "    (1042,'CD 2','Artist 2','Record101','2020-12-31',7),\n",
    "    (1043,'CD 3','Artist 3','Record101','2020-12-31',7),\n",
    "    (1044,'CD 4','Artist 4','Record101','2020-12-31',7),\n",
    "    (1045,'CD 5','Artist 5','Record101','2020-12-31',7),\n",
    "    (1046,'CD 6','Artist 6','Record101','2020-12-31',7),\n",
    "    (1047,'CD 7','Artist 7','Record101','2020-12-31',7),\n",
    "    (1048,'CD 8','Artist 8','Record101','2020-12-31',7),\n",
    "    (1049,'CD 9','Artist 9','Record101','2020-12-31',7),\n",
    "    (1050,'CD 10','Artist 10','Record101','2020-12-31',7);"
   ]
  },
  {
   "cell_type": "code",
   "execution_count": 24,
   "id": "5f319fb9",
   "metadata": {},
   "outputs": [
    {
     "name": "stdout",
     "output_type": "stream",
     "text": [
      " * sqlite:///Library.db\n",
      "10 rows affected.\n"
     ]
    },
    {
     "data": {
      "text/plain": [
       "[]"
      ]
     },
     "execution_count": 24,
     "metadata": {},
     "output_type": "execute_result"
    }
   ],
   "source": [
    "%%sql\n",
    "INSERT INTO Record VALUES(\n",
    "    1051,'Record 1','L 1','2020-12-31','Category 1',7),\n",
    "    (1052,'Record 2','L 2','2020-12-31','Category 2',7),\n",
    "    (1053,'Record 3','L 3','2020-12-31','Category 3',7),\n",
    "    (1054,'Record 4','L 4','2020-12-31','Category 4',7),\n",
    "    (1055,'Record 5','L 5','2020-12-31','Category 5',7),\n",
    "    (1056,'Record 6','L 6','2020-12-31','Category 6',7),\n",
    "    (1057,'Record 7','L 7','2020-12-31','Category 7',7),\n",
    "    (1058,'Record 8','L 8','2020-12-31','Category 8',7),\n",
    "    (1059,'Record 9','L 9','2020-12-31','Category 9',7),\n",
    "    (1060,'Record 10','L 10','2020-12-31','Category 10',7);"
   ]
  },
  {
   "cell_type": "code",
   "execution_count": 25,
   "id": "711ad13a",
   "metadata": {},
   "outputs": [
    {
     "name": "stdout",
     "output_type": "stream",
     "text": [
      " * sqlite:///Library.db\n",
      "10 rows affected.\n"
     ]
    },
    {
     "data": {
      "text/plain": [
       "[]"
      ]
     },
     "execution_count": 25,
     "metadata": {},
     "output_type": "execute_result"
    }
   ],
   "source": [
    "%%sql\n",
    "INSERT INTO AudioBook VALUES(\n",
    "    1061,'AudioBook 1','John Smith','2020-12-31','Print101',11111,123),\n",
    "    (1062,'AudioBook 2','Bob Smith','2000-09-03','Print200',11111,123),\n",
    "    (1063,'AudioBook 3','Larry Smith','2022-11-12','Print101',11111,123),\n",
    "    (1064,'AudioBook 4','C123','2012-12-11','Print101',11111,123),\n",
    "    (1065,'AudioBook 5','Rob Spring','2003-08-21','Print101',11111,123),\n",
    "    (1066,'AudioBook 6','Author 6','2005-06-01','Print101',11111,123),\n",
    "    (1067,'AudioBook 7','Author 7','2007-02-26','Print101',11111,123),\n",
    "    (1068,'AudioBook 8','Author 8','2021-03-11','Print101',11111,123),\n",
    "    (1069,'AudioBook 9','Author 9','2020-10-08','Print101',11111,123),\n",
    "    (1070,'AudioBook 10','Author 10','2001-11-06','Print101',11111,123);"
   ]
  },
  {
   "cell_type": "code",
   "execution_count": 26,
   "id": "7e686cfd",
   "metadata": {},
   "outputs": [
    {
     "name": "stdout",
     "output_type": "stream",
     "text": [
      " * sqlite:///Library.db\n",
      "10 rows affected.\n"
     ]
    },
    {
     "data": {
      "text/plain": [
       "[]"
      ]
     },
     "execution_count": 26,
     "metadata": {},
     "output_type": "execute_result"
    }
   ],
   "source": [
    "%%sql\n",
    "INSERT INTO User VALUES(\n",
    "    1,'last 1','First 1',NULL, NULL, 'BOOK CLUB'),\n",
    "    (2,'last 2','First 2','Address 2', NULL, 'BOOK EVENT'),\n",
    "    (3,'last 3','First 3','Address 3', 'ABC@DE.CA', 'CLUB'),\n",
    "    (4,'last 4','First 4','Address 4', NULL, 'BOOK EVENT'),\n",
    "    (5,'last 5','First 5','Address 5', NULL, 'ART SHOW'),\n",
    "    (6,'last 6','First 6',NULL, '123@asd.ca', 'FILM SCREENING'),\n",
    "    (7,'last 7','First 7','Address 7', NULL, 'BOOK EVENT'),\n",
    "    (8,'last 8','First 8','Address 8', NULL, 'READING'),\n",
    "    (9,'last 9','First 9','Address 9', NULL, 'MEET AND GREET'),\n",
    "    (10,'last 10','First 10','Address 10', NULL, 'LECTURE');"
   ]
  },
  {
   "cell_type": "code",
   "execution_count": 27,
   "id": "c6bd9765",
   "metadata": {},
   "outputs": [
    {
     "name": "stdout",
     "output_type": "stream",
     "text": [
      " * sqlite:///Library.db\n",
      "10 rows affected.\n"
     ]
    },
    {
     "data": {
      "text/plain": [
       "[]"
      ]
     },
     "execution_count": 27,
     "metadata": {},
     "output_type": "execute_result"
    }
   ],
   "source": [
    "%%sql\n",
    "INSERT INTO Room VALUES(\n",
    "    1,'DIAMOND HALL',100,2),\n",
    "    (2,'BIG ROOM',110,1),\n",
    "    (3,'Room 3',100, 0),\n",
    "    (4,NULL,100, -1),\n",
    "    (5,'ROOM 5',150, 1),\n",
    "    (6,'ROOM 6',100, 2),\n",
    "    (7,'ROOM 7',50, 1),\n",
    "    (8,NULL,50,-1),\n",
    "    (9,NULL,50,-1),\n",
    "    (10,NULL,50,0);"
   ]
  },
  {
   "cell_type": "code",
   "execution_count": 28,
   "id": "cc5f72d4",
   "metadata": {},
   "outputs": [
    {
     "name": "stdout",
     "output_type": "stream",
     "text": [
      " * sqlite:///Library.db\n",
      "10 rows affected.\n"
     ]
    },
    {
     "data": {
      "text/plain": [
       "[]"
      ]
     },
     "execution_count": 28,
     "metadata": {},
     "output_type": "execute_result"
    }
   ],
   "source": [
    "%%sql\n",
    "INSERT INTO Staff VALUES(\n",
    "    100,'last 1','First 1','Address 1', 'ABC@DE.CA', 1231231231,'2010-05-06','MANAGER',FALSE,NULL),\n",
    "    (102,'last 2','First 2','Address 2', 'ABC@DE.CA', 1231231231,'2010-05-06','LIBRARIAN',FALSE,NULL),\n",
    "    (103,'last 3','First 3','Address 3', 'ABC@DE.CA', 1231231231,'2010-05-06','LIBRARIAN',FALSE,NULL),\n",
    "    (104,'last 4','First 4','Address 4', 'ABC@DE.CA', 1231231231,'2010-05-06','LIBRARIAN',FALSE,NULL),\n",
    "    (105,'last 5','First 5','Address 5', 'ABC@DE.CA', 1231231231,'2010-05-06','LIBRARIAN',TRUE,1),\n",
    "    (106,'last 6','First 6','Address 6', '123@asd.ca', 1231231231,'2010-05-06','EVENT STAFF',TRUE,2),\n",
    "    (107,'last 7','First 7','Address 7', 'ABC@DE.CA', 1231231231,'2010-05-06','EVENT STAFF',TRUE,3),\n",
    "    (108,'last 8','First 8','Address 8', 'ABC@DE.CA', 1231231231,'2010-05-06','EVENT STAFF',TRUE,6),\n",
    "    (109,'last 9','First 9','Address 9', 'ABC@DE.CA', 1231231231,'2010-05-06','CAFE',FALSE,NULL),\n",
    "    (110,'last 10','First 10','Address 10', 'ABC@DE.CA', 1231231231,'2010-05-06','CAFE',FALSE,NULL);"
   ]
  },
  {
   "cell_type": "code",
   "execution_count": 29,
   "id": "7f542493",
   "metadata": {},
   "outputs": [
    {
     "name": "stdout",
     "output_type": "stream",
     "text": [
      " * sqlite:///Library.db\n",
      "10 rows affected.\n"
     ]
    },
    {
     "data": {
      "text/plain": [
       "[]"
      ]
     },
     "execution_count": 29,
     "metadata": {},
     "output_type": "execute_result"
    }
   ],
   "source": [
    "%%sql\n",
    "INSERT INTO Event VALUES(\n",
    "    'Monday Reading Club', '2023-09-23','BOOK CLUB',50, 100),\n",
    "    ('Film Event', '2023-10-12','FILM SCREENING',150, 101),\n",
    "    ('Event 3', '2023-03-16','BOOK CLUB',100, 102),\n",
    "    ('Event 4', '2023-010-17','BOOK CLUB',50, 100),\n",
    "    ('Event 5', '2023-09-18','CLUB',25, 100),\n",
    "    ('Event 6', '2023-06-19','BOOK CLUB',50, 101),\n",
    "    ('Event 7', '2023-07-11','ART SHOW',50, 101),\n",
    "    ('Event 8', '2023-11-20','BOOK CLUB',70, 105),\n",
    "    ('Event 9', '2023-09-21','BOOK CLUB',50, 101),\n",
    "    ('Event 10', '2023-10-25','BOOK EVENT',50, 106);"
   ]
  },
  {
   "cell_type": "code",
   "execution_count": 30,
   "id": "c1d1a73b",
   "metadata": {},
   "outputs": [
    {
     "name": "stdout",
     "output_type": "stream",
     "text": [
      " * sqlite:///Library.db\n",
      "10 rows affected.\n"
     ]
    },
    {
     "data": {
      "text/plain": [
       "[]"
      ]
     },
     "execution_count": 30,
     "metadata": {},
     "output_type": "execute_result"
    }
   ],
   "source": [
    "%%sql\n",
    "INSERT INTO Borrowing(UserID,ItemID,BorrowDate,DueDate,Charge) VALUES(\n",
    "    1,1020,'2023-08-01','2023-08-15', 00.00),\n",
    "    (2,1031,'2023-07-02','2023-07-16', 00.00),\n",
    "    (2,1021,'2023-05-09','2023-05-23', 00.00),\n",
    "    (4,1001,'2023-07-10','2023-07-24', 00.00),\n",
    "    (4,1033,'2023-06-09','2023-06-23', 00.00),\n",
    "    (7,1037,'2023-06-12','2023-06-26', 00.00),\n",
    "    (8,1046,'2023-06-09','2023-06-23', 00.00),\n",
    "    (9,1052,'2023-08-01','2023-08-15', 00.00),\n",
    "    (10,1060,'2023-06-09','2023-06-23', 00.00),\n",
    "    (4,1004,'2023-02-10','2023-02-24', 00.00);\n",
    "    "
   ]
  }
 ],
 "metadata": {
  "kernelspec": {
   "display_name": "Python 3 (ipykernel)",
   "language": "python",
   "name": "python3"
  },
  "language_info": {
   "codemirror_mode": {
    "name": "ipython",
    "version": 3
   },
   "file_extension": ".py",
   "mimetype": "text/x-python",
   "name": "python",
   "nbconvert_exporter": "python",
   "pygments_lexer": "ipython3",
   "version": "3.10.9"
  }
 },
 "nbformat": 4,
 "nbformat_minor": 5
}
